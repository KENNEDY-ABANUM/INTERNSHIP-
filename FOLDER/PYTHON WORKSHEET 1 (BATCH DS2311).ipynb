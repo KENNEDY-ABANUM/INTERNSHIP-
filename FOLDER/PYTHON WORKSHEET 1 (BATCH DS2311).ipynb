{
 "cells": [
  {
   "cell_type": "markdown",
   "id": "09945f70",
   "metadata": {},
   "source": [
    "# PYTHON - WORKSHEET 1"
   ]
  },
  {
   "cell_type": "code",
   "execution_count": 1,
   "id": "0240e22a",
   "metadata": {},
   "outputs": [
    {
     "data": {
      "text/plain": [
       "0.6666666666666666"
      ]
     },
     "execution_count": 1,
     "metadata": {},
     "output_type": "execute_result"
    }
   ],
   "source": [
    "2/3"
   ]
  },
  {
   "cell_type": "code",
   "execution_count": 2,
   "id": "afcae483",
   "metadata": {},
   "outputs": [
    {
     "data": {
      "text/plain": [
       "24"
      ]
     },
     "execution_count": 2,
     "metadata": {},
     "output_type": "execute_result"
    }
   ],
   "source": [
    "6<<2"
   ]
  },
  {
   "cell_type": "code",
   "execution_count": 3,
   "id": "e5fd96d2",
   "metadata": {},
   "outputs": [
    {
     "data": {
      "text/plain": [
       "2"
      ]
     },
     "execution_count": 3,
     "metadata": {},
     "output_type": "execute_result"
    }
   ],
   "source": [
    "6&2"
   ]
  },
  {
   "cell_type": "code",
   "execution_count": 4,
   "id": "c9888d88",
   "metadata": {},
   "outputs": [
    {
     "data": {
      "text/plain": [
       "6"
      ]
     },
     "execution_count": 4,
     "metadata": {},
     "output_type": "execute_result"
    }
   ],
   "source": [
    "6|2"
   ]
  },
  {
   "cell_type": "code",
   "execution_count": null,
   "id": "321d0270",
   "metadata": {},
   "outputs": [],
   "source": [
    "# ANSWER TO QUESTION 1-10"
   ]
  },
  {
   "cell_type": "code",
   "execution_count": null,
   "id": "b74bd92e",
   "metadata": {},
   "outputs": [],
   "source": [
    "#1. (C )\n",
    "#2. (A)\n",
    "#3. (C )\n",
    "#4. (A)\n",
    "#5. (D)\n",
    "#6. (C)\n",
    "#7. (A)\n",
    "#8.(C )\n",
    "#9. B, C.\n",
    "#10 A, B, \n",
    "\n"
   ]
  },
  {
   "cell_type": "code",
   "execution_count": null,
   "id": "6a8bb39f",
   "metadata": {},
   "outputs": [],
   "source": [
    "#Question 11"
   ]
  },
  {
   "cell_type": "code",
   "execution_count": 12,
   "id": "64c22b02",
   "metadata": {},
   "outputs": [
    {
     "name": "stdout",
     "output_type": "stream",
     "text": [
      "Enter a number4\n",
      "the factorial of 4 is 24\n"
     ]
    }
   ],
   "source": [
    "num = int(input(\"Enter a number\"))\n",
    "factorial = 1\n",
    "if num < 0:\n",
    "    print(\"No negetive number for factorial\")\n",
    "elif num == 0:\n",
    "    print(\"1 is the factorial of 0\")\n",
    "else:\n",
    "    for x in range(1,num + 1):\n",
    "        factorial=factorial*x\n",
    "    print(\"the factorial of\",num,\"is\",factorial)"
   ]
  },
  {
   "cell_type": "code",
   "execution_count": null,
   "id": "38776ba6",
   "metadata": {},
   "outputs": [],
   "source": [
    "#Question 12"
   ]
  },
  {
   "cell_type": "code",
   "execution_count": 16,
   "id": "4d88c364",
   "metadata": {},
   "outputs": [
    {
     "name": "stdout",
     "output_type": "stream",
     "text": [
      "Enter any number 7\n",
      "7 a prime number\n"
     ]
    }
   ],
   "source": [
    "num = int(input(\"Enter any number \"))\n",
    "if num > 1:\n",
    "    for y in range (2,num):\n",
    "        if num % y == 0:\n",
    "            print(num,\"is a composite number\")\n",
    "            break\n",
    "    else:\n",
    "        print(num, \"a prime number\")\n"
   ]
  },
  {
   "cell_type": "code",
   "execution_count": null,
   "id": "769db204",
   "metadata": {},
   "outputs": [],
   "source": [
    "#Question 13"
   ]
  },
  {
   "cell_type": "code",
   "execution_count": 6,
   "id": "cb7cd482",
   "metadata": {},
   "outputs": [
    {
     "name": "stdout",
     "output_type": "stream",
     "text": [
      "Enter any string to check if it is a palindrome: MADAM\n",
      "the string madam is a palindrome\n"
     ]
    }
   ],
   "source": [
    "forward_str = str(input(\"Enter any string to check if it is a palindrome: \" ))\n",
    "forward_str = forward_str.casefold()\n",
    "backward_str = reversed (forward_str)\n",
    "if list (forward_str) == list (backward_str):\n",
    "    print(\"the string\", forward_str, \"is a palindrome\")\n",
    "else:\n",
    "    print (\"the string\", forward_str, \"is not a palindrome\")"
   ]
  },
  {
   "cell_type": "code",
   "execution_count": null,
   "id": "ffd99e5c",
   "metadata": {},
   "outputs": [],
   "source": [
    "#Question 15. Write a python program to print the frequency of each of the characters present in a given string."
   ]
  },
  {
   "cell_type": "code",
   "execution_count": 8,
   "id": "079ccf53",
   "metadata": {},
   "outputs": [
    {
     "name": "stdout",
     "output_type": "stream",
     "text": [
      "Enter any String: kennedy\n",
      "{'k': 1, 'e': 2, 'n': 2, 'd': 1, 'y': 1}\n"
     ]
    }
   ],
   "source": [
    "a = str(input(\"Enter any String: \"))\n",
    "a = a.casefold()\n",
    "b = {}\n",
    "for c in a:\n",
    "    if c in b:\n",
    "        b[c]+=1\n",
    "    else:\n",
    "        b[c] = 1\n",
    "print(b)"
   ]
  },
  {
   "cell_type": "raw",
   "id": "a0a35307",
   "metadata": {},
   "source": [
    "#Question 14 "
   ]
  },
  {
   "cell_type": "code",
   "execution_count": 9,
   "id": "10d7041f",
   "metadata": {},
   "outputs": [
    {
     "name": "stdout",
     "output_type": "stream",
     "text": [
      "Enter triangle base: 8.5\n",
      "Enter triangle height: 12.2\n",
      "Enter angle of triangle45\n",
      "Hypotenuse = 14.869095466772684\n"
     ]
    }
   ],
   "source": [
    "import math\n",
    "x = float(input(\"Enter triangle base: \"))\n",
    "y = float(input(\"Enter triangle height: \"))\n",
    "z = float(input(\"Enter angle of triangle\"))\n",
    "\n",
    "k = math.sqrt(x**2 + y**2)\n",
    "\n",
    "print(\"Hypotenuse =\", k)"
   ]
  },
  {
   "cell_type": "code",
   "execution_count": null,
   "id": "ff003ce1",
   "metadata": {},
   "outputs": [],
   "source": []
  }
 ],
 "metadata": {
  "kernelspec": {
   "display_name": "Python 3 (ipykernel)",
   "language": "python",
   "name": "python3"
  },
  "language_info": {
   "codemirror_mode": {
    "name": "ipython",
    "version": 3
   },
   "file_extension": ".py",
   "mimetype": "text/x-python",
   "name": "python",
   "nbconvert_exporter": "python",
   "pygments_lexer": "ipython3",
   "version": "3.10.9"
  },
  "widgets": {
   "application/vnd.jupyter.widget-state+json": {
    "state": {},
    "version_major": 2,
    "version_minor": 0
   }
  }
 },
 "nbformat": 4,
 "nbformat_minor": 5
}
